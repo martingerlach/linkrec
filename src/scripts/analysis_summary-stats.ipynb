{
 "cells": [
  {
   "cell_type": "code",
   "execution_count": 11,
   "metadata": {},
   "outputs": [],
   "source": [
    "import os,sys\n",
    "import numpy as np\n",
    "import json\n",
    "import pickle\n",
    "import pandas as pd\n",
    "\n",
    "import mwparserfromhell as mwph\n",
    "from utils import wtpGetLinkAnchor\n",
    "from utils import get_feature_set\n",
    "from utils import getLinks, normalise_title, normalise_anchor, ngram_iterator"
   ]
  },
  {
   "cell_type": "code",
   "execution_count": 35,
   "metadata": {},
   "outputs": [],
   "source": [
    "wiki_id = \"dewiki\""
   ]
  },
  {
   "cell_type": "code",
   "execution_count": 36,
   "metadata": {},
   "outputs": [],
   "source": [
    "## get anchor dict and page-ids\n",
    "anchors = pickle.load(open(\"../../data/{0}/{0}.anchors.pkl\".format(wiki_id), \"rb\"))\n",
    "pageids = pickle.load(open(\"../../data/{0}/{0}.pageids.pkl\".format(wiki_id), \"rb\"))\n",
    "redirects = pickle.load(open(\"../../data/{0}/{0}.redirects.pkl\".format(wiki_id), \"rb\"))\n"
   ]
  },
  {
   "cell_type": "code",
   "execution_count": 37,
   "metadata": {},
   "outputs": [
    {
     "name": "stdout",
     "output_type": "stream",
     "text": [
      "2464154\n"
     ]
    }
   ],
   "source": [
    "N_pages = len(pageids)\n",
    "print(N_pages)"
   ]
  },
  {
   "cell_type": "code",
   "execution_count": 38,
   "metadata": {},
   "outputs": [
    {
     "name": "stdout",
     "output_type": "stream",
     "text": [
      "2902724\n",
      "61799422\n",
      "1.3611738491155205\n"
     ]
    }
   ],
   "source": [
    "N_anchors = len(anchors)\n",
    "print(N_anchors)\n",
    "N_links = 0\n",
    "N_no_alt = 0\n",
    "N_candidates = 0\n",
    "for anchor, links in anchors.items():\n",
    "    for l,n in links.items():\n",
    "        N_links+=n\n",
    "    N_candidates += len(links)\n",
    "    if len(links)==1:\n",
    "        N_no_alt += 1\n",
    "print(N_links)\n",
    "N_candidates_avg = N_candidates/N_anchors\n",
    "print(N_candidates_avg)"
   ]
  },
  {
   "cell_type": "code",
   "execution_count": 39,
   "metadata": {},
   "outputs": [
    {
     "data": {
      "text/plain": [
       "0.8564441538361898"
      ]
     },
     "execution_count": 39,
     "metadata": {},
     "output_type": "execute_result"
    }
   ],
   "source": [
    "N_no_alt/N_anchors"
   ]
  },
  {
   "cell_type": "code",
   "execution_count": null,
   "metadata": {},
   "outputs": [],
   "source": []
  },
  {
   "cell_type": "code",
   "execution_count": null,
   "metadata": {},
   "outputs": [],
   "source": []
  },
  {
   "cell_type": "code",
   "execution_count": 15,
   "metadata": {},
   "outputs": [],
   "source": [
    "## training sentences\n",
    "## load the training\n",
    "train_set = []\n",
    "N_train = 0\n",
    "N_train_links = 0\n",
    "with open(\"../../data/{0}/training/sentences_train.csv\".format(wiki_id)) as fin:\n",
    "    for line in fin:\n",
    "        try:\n",
    "            title, sent = line.split(\"\\t\")\n",
    "            train_set.append((title, sent))\n",
    "            inp_pairs = getLinks(sent, redirects=redirects, pageids=pageids)\n",
    "            N_train += 1\n",
    "            N_train_links += len(inp_pairs)\n",
    "        except:\n",
    "            continue\n"
   ]
  },
  {
   "cell_type": "code",
   "execution_count": 16,
   "metadata": {},
   "outputs": [
    {
     "name": "stdout",
     "output_type": "stream",
     "text": [
      "99993\n",
      "301365\n"
     ]
    }
   ],
   "source": [
    "print(N_train)\n",
    "print(N_train_links)"
   ]
  },
  {
   "cell_type": "code",
   "execution_count": 17,
   "metadata": {},
   "outputs": [],
   "source": [
    "## load the training\n",
    "test_set = []\n",
    "N_test = 0\n",
    "N_test_links = 0\n",
    "with open(\"../../data/{0}/testing/sentences_test.csv\".format(wiki_id)) as fin:\n",
    "    for line in fin:\n",
    "        try:\n",
    "            title, sent = line.split(\"\\t\")\n",
    "            test_set.append((title, sent))\n",
    "            inp_pairs = getLinks(sent, redirects=redirects, pageids=pageids)\n",
    "            N_test += 1\n",
    "            N_test_links += len(inp_pairs)\n",
    "        except:\n",
    "            continue"
   ]
  },
  {
   "cell_type": "code",
   "execution_count": 18,
   "metadata": {},
   "outputs": [
    {
     "name": "stdout",
     "output_type": "stream",
     "text": [
      "99987\n",
      "302278\n"
     ]
    }
   ],
   "source": [
    "print(N_test)\n",
    "print(N_test_links)"
   ]
  },
  {
   "cell_type": "code",
   "execution_count": null,
   "metadata": {},
   "outputs": [],
   "source": []
  },
  {
   "cell_type": "code",
   "execution_count": null,
   "metadata": {},
   "outputs": [],
   "source": []
  },
  {
   "cell_type": "code",
   "execution_count": null,
   "metadata": {},
   "outputs": [],
   "source": []
  },
  {
   "cell_type": "code",
   "execution_count": 19,
   "metadata": {},
   "outputs": [],
   "source": [
    "dict_pd = {}"
   ]
  },
  {
   "cell_type": "code",
   "execution_count": 27,
   "metadata": {},
   "outputs": [
    {
     "name": "stdout",
     "output_type": "stream",
     "text": [
      "arwiki\n",
      "bnwiki\n",
      "cswiki\n",
      "viwiki\n",
      "dewiki\n",
      "ptwiki\n",
      "simplewiki\n"
     ]
    }
   ],
   "source": [
    "\n",
    "list_N_pages = []\n",
    "list_N_anchors = []\n",
    "list_N_links = []\n",
    "list_N_cand_avg = []\n",
    "list_N_train = []\n",
    "list_N_train_links = []\n",
    "list_N_test = []\n",
    "list_N_test_links = []\n",
    "\n",
    "\n",
    "\n",
    "list_wiki_id = [\"arwiki\",\"bnwiki\",\"cswiki\",\"viwiki\",\"dewiki\",\"ptwiki\",\"simplewiki\"]\n",
    "for wiki_id in list_wiki_id:\n",
    "# wiki_id = \"arwiki\"\n",
    "    print(wiki_id)\n",
    "    ## get anchor dict and page-ids\n",
    "    anchors = pickle.load(open(\"../../data/{0}/{0}.anchors.pkl\".format(wiki_id), \"rb\"))\n",
    "    pageids = pickle.load(open(\"../../data/{0}/{0}.pageids.pkl\".format(wiki_id), \"rb\"))\n",
    "    redirects = pickle.load(open(\"../../data/{0}/{0}.redirects.pkl\".format(wiki_id), \"rb\"))\n",
    "\n",
    "    N_pages = len(pageids)\n",
    "    N_anchors = len(anchors)\n",
    "    N_links = 0\n",
    "    N_candidates = 0\n",
    "    for anchor, links in anchors.items():\n",
    "        for l,n in links.items():\n",
    "            N_links+=n\n",
    "        N_candidates += len(links)\n",
    "    N_candidates_avg = N_candidates/N_anchors\n",
    "\n",
    "    train_set = []\n",
    "    N_train = 0\n",
    "    N_train_links = 0\n",
    "    with open(\"../../data/{0}/training/sentences_train.csv\".format(wiki_id)) as fin:\n",
    "        for line in fin:\n",
    "            try:\n",
    "                title, sent = line.split(\"\\t\")\n",
    "                train_set.append((title, sent))\n",
    "                inp_pairs = getLinks(sent, redirects=redirects, pageids=pageids)\n",
    "                N_train += 1\n",
    "                N_train_links += len(inp_pairs)\n",
    "            except:\n",
    "                continue\n",
    "    ## load the training\n",
    "    test_set = []\n",
    "    N_test = 0\n",
    "    N_test_links = 0\n",
    "    with open(\"../../data/{0}/testing/sentences_test.csv\".format(wiki_id)) as fin:\n",
    "        for line in fin:\n",
    "            try:\n",
    "                title, sent = line.split(\"\\t\")\n",
    "                test_set.append((title, sent))\n",
    "                inp_pairs = getLinks(sent, redirects=redirects, pageids=pageids)\n",
    "                N_test += 1\n",
    "                N_test_links += len(inp_pairs)\n",
    "            except:\n",
    "                continue\n",
    "            \n",
    "    list_N_pages += [int(N_pages)]\n",
    "    list_N_anchors += [int(N_anchors)]\n",
    "    list_N_links += [int(N_links)]\n",
    "    list_N_cand_avg += [np.round(N_candidates_avg,2)]\n",
    "    list_N_train += [int(N_train)]\n",
    "    list_N_train_links += [int(N_train_links)]\n",
    "    list_N_test += [int(N_test)]\n",
    "    list_N_test_links += [int(N_test_links)]\n"
   ]
  },
  {
   "cell_type": "code",
   "execution_count": 45,
   "metadata": {},
   "outputs": [
    {
     "data": {
      "text/html": [
       "<div>\n",
       "<style scoped>\n",
       "    .dataframe tbody tr th:only-of-type {\n",
       "        vertical-align: middle;\n",
       "    }\n",
       "\n",
       "    .dataframe tbody tr th {\n",
       "        vertical-align: top;\n",
       "    }\n",
       "\n",
       "    .dataframe thead th {\n",
       "        text-align: right;\n",
       "    }\n",
       "</style>\n",
       "<table border=\"1\" class=\"dataframe\">\n",
       "  <thead>\n",
       "    <tr style=\"text-align: right;\">\n",
       "      <th></th>\n",
       "      <th>#pages</th>\n",
       "      <th>#links</th>\n",
       "      <th>#anchors</th>\n",
       "      <th>#train sent.</th>\n",
       "      <th>#train links</th>\n",
       "      <th>#test sent.</th>\n",
       "      <th>#test links</th>\n",
       "    </tr>\n",
       "  </thead>\n",
       "  <tbody>\n",
       "    <tr>\n",
       "      <th>arwiki</th>\n",
       "      <td>1,057,579</td>\n",
       "      <td>11,346,322</td>\n",
       "      <td>562,058</td>\n",
       "      <td>99,993</td>\n",
       "      <td>301,365</td>\n",
       "      <td>99,987</td>\n",
       "      <td>302,278</td>\n",
       "    </tr>\n",
       "    <tr>\n",
       "      <th>bnwiki</th>\n",
       "      <td>92,401</td>\n",
       "      <td>1,120,949</td>\n",
       "      <td>97,739</td>\n",
       "      <td>43,678</td>\n",
       "      <td>77,889</td>\n",
       "      <td>43,679</td>\n",
       "      <td>78,433</td>\n",
       "    </tr>\n",
       "    <tr>\n",
       "      <th>cswiki</th>\n",
       "      <td>459,769</td>\n",
       "      <td>10,151,007</td>\n",
       "      <td>648,544</td>\n",
       "      <td>99,998</td>\n",
       "      <td>232,489</td>\n",
       "      <td>99,997</td>\n",
       "      <td>232,895</td>\n",
       "    </tr>\n",
       "    <tr>\n",
       "      <th>viwiki</th>\n",
       "      <td>1,251,872</td>\n",
       "      <td>12,133,339</td>\n",
       "      <td>347,514</td>\n",
       "      <td>99,999</td>\n",
       "      <td>208,527</td>\n",
       "      <td>100,000</td>\n",
       "      <td>208,298</td>\n",
       "    </tr>\n",
       "    <tr>\n",
       "      <th>dewiki</th>\n",
       "      <td>2,464,154</td>\n",
       "      <td>61,799,422</td>\n",
       "      <td>2,902,724</td>\n",
       "      <td>99,998</td>\n",
       "      <td>240,285</td>\n",
       "      <td>99,999</td>\n",
       "      <td>240,646</td>\n",
       "    </tr>\n",
       "    <tr>\n",
       "      <th>ptwiki</th>\n",
       "      <td>1,041,138</td>\n",
       "      <td>20,428,721</td>\n",
       "      <td>951,155</td>\n",
       "      <td>99,999</td>\n",
       "      <td>362,608</td>\n",
       "      <td>99,995</td>\n",
       "      <td>360,799</td>\n",
       "    </tr>\n",
       "    <tr>\n",
       "      <th>simplewiki</th>\n",
       "      <td>169,558</td>\n",
       "      <td>2,124,488</td>\n",
       "      <td>137,215</td>\n",
       "      <td>82,089</td>\n",
       "      <td>182,225</td>\n",
       "      <td>82,091</td>\n",
       "      <td>182,644</td>\n",
       "    </tr>\n",
       "  </tbody>\n",
       "</table>\n",
       "</div>"
      ],
      "text/plain": [
       "               #pages      #links   #anchors #train sent. #train links  \\\n",
       "arwiki      1,057,579  11,346,322    562,058       99,993      301,365   \n",
       "bnwiki         92,401   1,120,949     97,739       43,678       77,889   \n",
       "cswiki        459,769  10,151,007    648,544       99,998      232,489   \n",
       "viwiki      1,251,872  12,133,339    347,514       99,999      208,527   \n",
       "dewiki      2,464,154  61,799,422  2,902,724       99,998      240,285   \n",
       "ptwiki      1,041,138  20,428,721    951,155       99,999      362,608   \n",
       "simplewiki    169,558   2,124,488    137,215       82,089      182,225   \n",
       "\n",
       "           #test sent. #test links  \n",
       "arwiki          99,987     302,278  \n",
       "bnwiki          43,679      78,433  \n",
       "cswiki          99,997     232,895  \n",
       "viwiki         100,000     208,298  \n",
       "dewiki          99,999     240,646  \n",
       "ptwiki          99,995     360,799  \n",
       "simplewiki      82,091     182,644  "
      ]
     },
     "execution_count": 45,
     "metadata": {},
     "output_type": "execute_result"
    }
   ],
   "source": [
    "list_index=list_wiki_id\n",
    "list_columns = ['#pages',  '#links','#anchors', '#train sent.', '#train links', '#test sent.', '#test links']\n",
    "\n",
    "df = pd.DataFrame(columns=list_columns, index=list_index)\n",
    "df['#pages'] = [ \"{:,}\".format(int(h)) for h in  list_N_pages]\n",
    "df['#links'] = [ \"{:,}\".format(int(h)) for h in list_N_links]\n",
    "df['#anchors'] = [ \"{:,}\".format(int(h)) for h in list_N_anchors]\n",
    "# df['N cand. avg.'] = list_N_cand_avg\n",
    "df['#train sent.'] = [ \"{:,}\".format(int(h)) for h in  list_N_train]\n",
    "df['#train links'] = [ \"{:,}\".format(int(h)) for h in  list_N_train_links]\n",
    "df['#test sent.'] = [ \"{:,}\".format(int(h)) for h in list_N_test]\n",
    "df['#test links'] = [ \"{:,}\".format(int(h)) for h in list_N_test_links]\n",
    "df"
   ]
  },
  {
   "cell_type": "code",
   "execution_count": 30,
   "metadata": {},
   "outputs": [
    {
     "data": {
      "text/plain": [
       "137215"
      ]
     },
     "execution_count": 30,
     "metadata": {},
     "output_type": "execute_result"
    }
   ],
   "source": [
    "len(anchors)"
   ]
  },
  {
   "cell_type": "code",
   "execution_count": 31,
   "metadata": {},
   "outputs": [
    {
     "name": "stdout",
     "output_type": "stream",
     "text": [
      "137215\n",
      "2124488\n",
      "1.2095689246802463\n"
     ]
    }
   ],
   "source": [
    "N_anchors = len(anchors)\n",
    "print(N_anchors)\n",
    "N_links = 0\n",
    "\n",
    "N_candidates = 0\n",
    "N_no_alt = 0\n",
    "for anchor, links in anchors.items():\n",
    "    for l,n in links.items():\n",
    "        N_links+=n\n",
    "    N_candidates += len(links)\n",
    "    if len(links)==1:\n",
    "        N_no_alt += 1\n",
    "print(N_links)\n",
    "N_candidates_avg = N_candidates/N_anchors\n",
    "print(N_candidates_avg)"
   ]
  },
  {
   "cell_type": "code",
   "execution_count": 34,
   "metadata": {},
   "outputs": [
    {
     "data": {
      "text/plain": [
       "0.8891229093029188"
      ]
     },
     "execution_count": 34,
     "metadata": {},
     "output_type": "execute_result"
    }
   ],
   "source": [
    "N_no_alt/N_anchors"
   ]
  },
  {
   "cell_type": "code",
   "execution_count": null,
   "metadata": {},
   "outputs": [],
   "source": []
  },
  {
   "cell_type": "code",
   "execution_count": null,
   "metadata": {},
   "outputs": [],
   "source": []
  }
 ],
 "metadata": {
  "kernelspec": {
   "display_name": "venv_mwaddlink",
   "language": "python",
   "name": "venv_mwaddlink"
  },
  "language_info": {
   "codemirror_mode": {
    "name": "ipython",
    "version": 3
   },
   "file_extension": ".py",
   "mimetype": "text/x-python",
   "name": "python",
   "nbconvert_exporter": "python",
   "pygments_lexer": "ipython3",
   "version": "3.7.3"
  }
 },
 "nbformat": 4,
 "nbformat_minor": 4
}
